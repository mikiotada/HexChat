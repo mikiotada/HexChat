{
 "cells": [
  {
   "cell_type": "code",
   "execution_count": 1,
   "metadata": {
    "ExecuteTime": {
     "end_time": "2020-05-02T00:25:20.395060Z",
     "start_time": "2020-05-02T00:25:20.121392Z"
    }
   },
   "outputs": [],
   "source": [
    "# For API post\n",
    "import requests\n",
    "import json\n",
    "\n",
    "# For schema validation\n",
    "import jsonschema\n",
    "from jsonschema import validate"
   ]
  },
  {
   "cell_type": "markdown",
   "metadata": {},
   "source": [
    "# form_group API: post method"
   ]
  },
  {
   "cell_type": "markdown",
   "metadata": {},
   "source": [
    "# Success case"
   ]
  },
  {
   "cell_type": "code",
   "execution_count": 73,
   "metadata": {
    "ExecuteTime": {
     "end_time": "2020-04-23T18:49:06.350665Z",
     "start_time": "2020-04-23T18:49:06.112286Z"
    }
   },
   "outputs": [
    {
     "data": {
      "text/plain": [
       "{'message': 'valid JSON Schema', 'success': True}"
      ]
     },
     "execution_count": 73,
     "metadata": {},
     "output_type": "execute_result"
    }
   ],
   "source": [
    "# We got to include more key here!\n",
    "URL = \"http://127.0.0.1:5000/form_group\"\n",
    "\n",
    "# form_group_json = {\n",
    "#     \"name\": \"test_group\",\n",
    "#     \"user_ids\": 1,\n",
    "#     \"str\":{\n",
    "#         \"welcome_str\": {\"type\": {\"type\": \"str\", \"content\": \"welcome~\"}, \"content\": \"welcome~\"},\n",
    "#         \"ending_str\": \"ending\"\n",
    "#     }\n",
    "# }\n",
    "\n",
    "form_group_json = {\n",
    "    \"name\": \"test_group_2\",\n",
    "    \"user_ids\": [1,2,3,4,5,6],\n",
    "    \"test_str\":{\n",
    "        \"welcome_str\": {\"type\": 1, \"content\": \"welcome~\"},\n",
    "        \"ending_str\": [1,2,3]\n",
    "    }\n",
    "}\n",
    "\n",
    "r = requests.post(url=URL, json=form_group_json)\n",
    "r.json()"
   ]
  },
  {
   "cell_type": "markdown",
   "metadata": {},
   "source": [
    "# Fail case"
   ]
  },
  {
   "cell_type": "code",
   "execution_count": 74,
   "metadata": {
    "ExecuteTime": {
     "end_time": "2020-04-23T18:48:23.014605Z",
     "start_time": "2020-04-23T18:48:22.980539Z"
    }
   },
   "outputs": [
    {
     "data": {
      "text/plain": [
       "{'message': \"'1' is not of type 'integer'\", 'success': False}"
      ]
     },
     "execution_count": 74,
     "metadata": {},
     "output_type": "execute_result"
    }
   ],
   "source": [
    "# We got to include more key here!\n",
    "URL = \"http://127.0.0.1:5000/form_group\"\n",
    "\n",
    "# form_group_json = {\n",
    "#     \"name\": \"test_group\",\n",
    "#     \"user_ids\": 1,\n",
    "#     \"str\":{\n",
    "#         \"welcome_str\": {\"type\": {\"type\": \"str\", \"content\": \"welcome~\"}, \"content\": \"welcome~\"},\n",
    "#         \"ending_str\": \"ending\"\n",
    "#     }\n",
    "# }\n",
    "\n",
    "form_group_json = {\n",
    "    \"name\": \"test_group\",\n",
    "    \"user_ids\": [1,2,3,4,5,6],\n",
    "    \"test_str\":{\n",
    "        \"welcome_str\": {\"type\": \"1\", \"content\": \"welcome~\"}, #<------1 becomes \"1\"\n",
    "        \"ending_str\": [1,2,3]\n",
    "    }\n",
    "}\n",
    "\n",
    "r = requests.post(url=URL, json=form_group_json)\n",
    "r.json()"
   ]
  },
  {
   "cell_type": "markdown",
   "metadata": {
    "ExecuteTime": {
     "end_time": "2020-04-23T02:35:16.209715Z",
     "start_time": "2020-04-23T02:35:16.198660Z"
    }
   },
   "source": [
    "# Schema Validation"
   ]
  },
  {
   "cell_type": "code",
   "execution_count": 2,
   "metadata": {
    "ExecuteTime": {
     "end_time": "2020-05-01T23:50:51.154707Z",
     "start_time": "2020-05-01T23:50:51.125852Z"
    }
   },
   "outputs": [],
   "source": [
    "def validate_json(json_data, json_schema):\n",
    "    \"\"\"\n",
    "    helper function to validate json fit the schema\n",
    "\n",
    "    Args:\n",
    "        json_data [dict]: as-name\n",
    "        json_schema [dict]: schema that control the valid inputs\n",
    "    \"\"\"\n",
    "    try:\n",
    "        validate(instance=json_data, schema=json_schema)\n",
    "    except jsonschema.exceptions.ValidationError as err:\n",
    "        return False, err.message\n",
    "    return True, \"valid JSON Schema\""
   ]
  },
  {
   "cell_type": "code",
   "execution_count": 77,
   "metadata": {
    "ExecuteTime": {
     "end_time": "2020-04-23T05:55:45.510435Z",
     "start_time": "2020-04-23T05:55:45.486332Z"
    }
   },
   "outputs": [
    {
     "data": {
      "text/plain": [
       "(True, 'valid JSON Schema')"
      ]
     },
     "execution_count": 77,
     "metadata": {},
     "output_type": "execute_result"
    }
   ],
   "source": [
    "form_group_json = {\n",
    "    \"name\": \"test_group\",\n",
    "    \"user_ids\": [1,2,3,4,5,6],\n",
    "    \"str\":{\n",
    "        \"welcome_str\": {\"type\": 1, \"content\": \"welcome~\"},\n",
    "        \"ending_str\": [1,2,3]\n",
    "    }\n",
    "}\n",
    "\n",
    "\n",
    "form_group_schema = {\n",
    "    \"type\": \"object\",\n",
    "    \"properties\": {\n",
    "        \"name\": {\"type\": \"string\"},\n",
    "        \"user_ids\": {\"type\": \"array\"},\n",
    "        \"str\": {\"type\": \"object\",\n",
    "               \"properties\": {\n",
    "                   \"welcome_str\": {\"type\": \"object\",\n",
    "                                  \"properties\":{\n",
    "                                      \"type\": {\"type\": \"integer\"},\n",
    "                                      \"content\": {\"type\": \"string\"}\n",
    "                                  }},\n",
    "                   \"ending_str\": {\"type\": \"array\"}\n",
    "               }},\n",
    "    },\n",
    "}\n",
    "\n",
    "validate_json(form_group_json, form_group_schema)"
   ]
  },
  {
   "cell_type": "markdown",
   "metadata": {},
   "source": [
    "### fail case"
   ]
  },
  {
   "cell_type": "code",
   "execution_count": 37,
   "metadata": {
    "ExecuteTime": {
     "end_time": "2020-05-02T00:06:15.432860Z",
     "start_time": "2020-05-02T00:06:15.418760Z"
    }
   },
   "outputs": [
    {
     "data": {
      "text/plain": [
       "(False, \"'1' is not of type 'integer'\")"
      ]
     },
     "execution_count": 37,
     "metadata": {},
     "output_type": "execute_result"
    }
   ],
   "source": [
    "form_group_json = {\n",
    "    \"name\": \"test_group\",\n",
    "    \"user_ids\": [1,2,3,4,5,6],\n",
    "    \"str\":{\n",
    "        \"welcome_str\": {\"type\": \"1\", \"content\": \"welcome~\"},\n",
    "        \"ending_str\": [1,2,3]\n",
    "    }\n",
    "}\n",
    "\n",
    "\n",
    "form_group_schema = {\n",
    "    \"type\": \"object\",\n",
    "    \"properties\": {\n",
    "        \"name\": {\"type\": \"string\"},\n",
    "        \"user_ids\": {\"type\": \"array\"},\n",
    "        \"str\": {\"type\": \"object\",\n",
    "               \"properties\": {\n",
    "                   \"welcome_str\": {\"type\": \"object\",\n",
    "                                  \"properties\":{\n",
    "                                      \"type\": {\"type\": \"integer\"},\n",
    "                                      \"content\": {\"type\": \"string\"}\n",
    "                                  }},\n",
    "                   \"ending_str\": {\"type\": \"array\"}\n",
    "               }},\n",
    "    },\n",
    "}\n",
    "\n",
    "validate_json(form_group_json, form_group_schema)"
   ]
  },
  {
   "cell_type": "code",
   "execution_count": 2,
   "metadata": {
    "ExecuteTime": {
     "end_time": "2020-05-02T00:25:23.978868Z",
     "start_time": "2020-05-02T00:25:23.881398Z"
    }
   },
   "outputs": [],
   "source": [
    "from models import *\n",
    "from utility_be import *"
   ]
  },
  {
   "cell_type": "code",
   "execution_count": 3,
   "metadata": {
    "ExecuteTime": {
     "end_time": "2020-05-02T00:25:24.031426Z",
     "start_time": "2020-05-02T00:25:24.013957Z"
    }
   },
   "outputs": [
    {
     "name": "stdout",
     "output_type": "stream",
     "text": [
      "(True, 'valid JSON Schema')\n",
      "(True, 'valid JSON Schema')\n"
     ]
    }
   ],
   "source": [
    "print(validate_json(latest_form_group_json, form_group_schema))\n",
    "print(validate_json(latest_form_cohort_json, form_cohort_schema))\n"
   ]
  },
  {
   "cell_type": "code",
   "execution_count": 103,
   "metadata": {
    "ExecuteTime": {
     "end_time": "2020-05-02T00:23:31.904017Z",
     "start_time": "2020-05-02T00:23:31.891673Z"
    }
   },
   "outputs": [],
   "source": []
  },
  {
   "cell_type": "code",
   "execution_count": 104,
   "metadata": {
    "ExecuteTime": {
     "end_time": "2020-05-02T00:23:32.071862Z",
     "start_time": "2020-05-02T00:23:32.045567Z"
    }
   },
   "outputs": [],
   "source": []
  },
  {
   "cell_type": "code",
   "execution_count": null,
   "metadata": {
    "ExecuteTime": {
     "end_time": "2020-05-02T00:23:32.189289Z",
     "start_time": "2020-05-02T00:23:32.173761Z"
    }
   },
   "outputs": [],
   "source": []
  },
  {
   "cell_type": "code",
   "execution_count": null,
   "metadata": {},
   "outputs": [],
   "source": []
  },
  {
   "cell_type": "code",
   "execution_count": null,
   "metadata": {},
   "outputs": [],
   "source": []
  }
 ],
 "metadata": {
  "kernelspec": {
   "display_name": "Python 3",
   "language": "python",
   "name": "python3"
  },
  "language_info": {
   "codemirror_mode": {
    "name": "ipython",
    "version": 3
   },
   "file_extension": ".py",
   "mimetype": "text/x-python",
   "name": "python",
   "nbconvert_exporter": "python",
   "pygments_lexer": "ipython3",
   "version": "3.7.6"
  }
 },
 "nbformat": 4,
 "nbformat_minor": 4
}
