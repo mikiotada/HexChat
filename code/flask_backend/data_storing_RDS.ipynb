{
 "cells": [
  {
   "cell_type": "code",
   "execution_count": null,
   "metadata": {},
   "outputs": [],
   "source": [
    "# !pip install psycopg2"
   ]
  },
  {
   "cell_type": "code",
   "execution_count": 1,
   "metadata": {},
   "outputs": [],
   "source": [
    "import psycopg2 as ps\n",
    "import json"
   ]
  },
  {
   "cell_type": "code",
   "execution_count": 2,
   "metadata": {},
   "outputs": [
    {
     "name": "stdout",
     "output_type": "stream",
     "text": [
      "Get hexchat_db_key.json if you do not have\n"
     ]
    }
   ],
   "source": [
    "try:\n",
    "    with open('hexchat_db_key.json', 'r') as f:\n",
    "        json_new_obj = f.read()\n",
    "        credentials = json.loads(json_new_obj)\n",
    "except:\n",
    "    print(\"Get hexchat_db_key.json if you do not have\") # from Nishat "
   ]
  },
  {
   "cell_type": "code",
   "execution_count": 29,
   "metadata": {},
   "outputs": [],
   "source": [
    "latest_form_group_json = {\n",
    "    \"metadata\": {\n",
    "        \"group_name\": \"test_group\",\n",
    "        \"group_status\": \"ALIVE\",  # ALIVE / DEAD, update by Frontend if current time pass end_time, then show them connect and questionnarie things\n",
    "        \"start_time\": 1587848400,\n",
    "        \"end_time\": 1588021200,  # check against this timestamp to determine whether the room is ended\n",
    "        \"members\": [\n",
    "            \"KkOoBVwjT3ZEmuNOtRI5yeMujgr1\",\n",
    "            \"Rxlb9gYYdLep6Ts810T18eq9Ijm2\",\n",
    "            \"4UOjpg8j4iNgR3JB50cSPqqRKj73\",\n",
    "        ],\n",
    "    },\n",
    "    \"messages\": [],  # chat messages will go here\n",
    "    \"messages_cnt\": 0,  # count message sum\n",
    "    # we should have 6 for this, 3 is for example only\n",
    "    \"connection\": {  # after chat, if user choose to connect with others, add other uids in array, then check if their uid exist in other lists\n",
    "        \"KkOoBVwjT3ZEmuNOtRI5yeMujgr1\": [],\n",
    "        \"Rxlb9gYYdLep6Ts810T18eq9Ijm2\": [],\n",
    "        \"4UOjpg8j4iNgR3JB50cSPqqRKj73\": [],\n",
    "    },\n",
    "    # we should have 6 for this, 3 is for example only\n",
    "    # hardcode the questions for the moment if we don't have time\n",
    "    \"questionnaire\": {\n",
    "        \"KkOoBVwjT3ZEmuNOtRI5yeMujgr1\": {},\n",
    "        \"Rxlb9gYYdLep6Ts810T18eq9Ijm2\": {},\n",
    "        \"4UOjpg8j4iNgR3JB50cSPqqRKj73\": {},\n",
    "    },\n",
    "}"
   ]
  },
  {
   "cell_type": "code",
   "execution_count": 73,
   "metadata": {},
   "outputs": [],
   "source": [
    "group_json = json.dumps(latest_form_group_json)"
   ]
  },
  {
   "cell_type": "code",
   "execution_count": 42,
   "metadata": {
    "scrolled": true
   },
   "outputs": [
    {
     "data": {
      "text/plain": [
       "['KkOoBVwjT3ZEmuNOtRI5yeMujgr1',\n",
       " 'Rxlb9gYYdLep6Ts810T18eq9Ijm2',\n",
       " '4UOjpg8j4iNgR3JB50cSPqqRKj73']"
      ]
     },
     "execution_count": 42,
     "metadata": {},
     "output_type": "execute_result"
    }
   ],
   "source": [
    "member_list = latest_form_group_json['metadata']['members']\n",
    "member_list"
   ]
  },
  {
   "cell_type": "code",
   "execution_count": 46,
   "metadata": {},
   "outputs": [
    {
     "data": {
      "text/plain": [
       "['1587848400']"
      ]
     },
     "execution_count": 46,
     "metadata": {},
     "output_type": "execute_result"
    }
   ],
   "source": [
    "date_list = [str(latest_form_group_json['metadata']['start_time'])]\n",
    "date_list"
   ]
  },
  {
   "cell_type": "code",
   "execution_count": 84,
   "metadata": {},
   "outputs": [
    {
     "data": {
      "text/plain": [
       "str"
      ]
     },
     "execution_count": 84,
     "metadata": {},
     "output_type": "execute_result"
    }
   ],
   "source": [
    "uniq_id = str(hash(tuple(member_list+date_list)))\n",
    "type(uniq_id)"
   ]
  },
  {
   "cell_type": "code",
   "execution_count": 82,
   "metadata": {},
   "outputs": [],
   "source": [
    "# create connection and cursor    \n",
    "conn = ps.connect(host=credentials['POSTGRES_ADDRESS'],\n",
    "                  database=credentials['POSTGRES_DBNAME'],\n",
    "                  user=credentials['POSTGRES_USERNAME'],\n",
    "                  password=credentials['POSTGRES_PASSWORD'],\n",
    "                  port=credentials['POSTGRES_PORT'])\n",
    "cur = conn.cursor()"
   ]
  },
  {
   "cell_type": "code",
   "execution_count": 83,
   "metadata": {},
   "outputs": [],
   "source": [
    "create_table = \"\"\"\n",
    "    CREATE TABLE IF NOT EXISTS groups (\n",
    "    ID TEXT unique,\n",
    "    formed_group json NOT NULL\n",
    ");\n",
    "    \"\"\"\n",
    "\n",
    "# Execute SQL Command and commit to DB\n",
    "cur.execute(create_table)\n",
    "conn.commit()"
   ]
  },
  {
   "cell_type": "code",
   "execution_count": 87,
   "metadata": {},
   "outputs": [],
   "source": [
    "table_name = 'groups'\n",
    "sql_string = f'INSERT INTO {table_name} '\n",
    "# sql_string += \"(\" + ' VALUES '.join(latest_form_group_json) + \")\\n \"\n",
    "sql_string +='(ID, formed_group)' + f\" VALUES ('{uniq_id}', '{group_json}')\""
   ]
  },
  {
   "cell_type": "code",
   "execution_count": 88,
   "metadata": {},
   "outputs": [
    {
     "data": {
      "text/plain": [
       "'INSERT INTO groups (ID, formed_group) VALUES (\\'8758000244026113573\\', \\'{\"metadata\": {\"group_name\": \"test_group\", \"group_status\": \"ALIVE\", \"start_time\": 1587848400, \"end_time\": 1588021200, \"members\": [\"KkOoBVwjT3ZEmuNOtRI5yeMujgr1\", \"Rxlb9gYYdLep6Ts810T18eq9Ijm2\", \"4UOjpg8j4iNgR3JB50cSPqqRKj73\"]}, \"messages\": [], \"messages_cnt\": 0, \"connection\": {\"KkOoBVwjT3ZEmuNOtRI5yeMujgr1\": [], \"Rxlb9gYYdLep6Ts810T18eq9Ijm2\": [], \"4UOjpg8j4iNgR3JB50cSPqqRKj73\": []}, \"questionnaire\": {\"KkOoBVwjT3ZEmuNOtRI5yeMujgr1\": {}, \"Rxlb9gYYdLep6Ts810T18eq9Ijm2\": {}, \"4UOjpg8j4iNgR3JB50cSPqqRKj73\": {}}}\\')'"
      ]
     },
     "execution_count": 88,
     "metadata": {},
     "output_type": "execute_result"
    }
   ],
   "source": [
    "sql_string"
   ]
  },
  {
   "cell_type": "code",
   "execution_count": 89,
   "metadata": {},
   "outputs": [],
   "source": [
    "# Execute SQL Command and commit to DB\n",
    "cur.execute(sql_string)\n",
    "conn.commit()"
   ]
  },
  {
   "cell_type": "code",
   "execution_count": null,
   "metadata": {},
   "outputs": [],
   "source": []
  }
 ],
 "metadata": {
  "kernelspec": {
   "display_name": "Python 3",
   "language": "python",
   "name": "python3"
  },
  "language_info": {
   "codemirror_mode": {
    "name": "ipython",
    "version": 3
   },
   "file_extension": ".py",
   "mimetype": "text/x-python",
   "name": "python",
   "nbconvert_exporter": "python",
   "pygments_lexer": "ipython3",
   "version": "3.7.4"
  }
 },
 "nbformat": 4,
 "nbformat_minor": 4
}
