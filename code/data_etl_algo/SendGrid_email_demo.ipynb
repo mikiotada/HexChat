{
 "cells": [
  {
   "cell_type": "code",
   "execution_count": 5,
   "metadata": {
    "ExecuteTime": {
     "end_time": "2020-04-29T15:44:15.070693Z",
     "start_time": "2020-04-29T15:44:14.837414Z"
    }
   },
   "outputs": [
    {
     "name": "stdout",
     "output_type": "stream",
     "text": [
      "b'{\"errors\":[{\"message\":\"The provided authorization grant is invalid, expired, or revoked\",\"field\":null,\"help\":null}]}'\n"
     ]
    }
   ],
   "source": [
    "import os\n",
    "from sendgrid import SendGridAPIClient\n",
    "from sendgrid.helpers.mail import Mail\n",
    "\n",
    "message = Mail(\n",
    "    from_email='geoffrey12177@gmail.com',\n",
    "    to_emails='yhung9@dons.usfca.edu',\n",
    "    subject='✨✨✨hexchat first API email, hope this works!',\n",
    "    html_content='<strong>This is Geoffrey, this is not spam</strong>')\n",
    "try:\n",
    "    \"Need to ask me for this\"\n",
    "    sg = SendGridAPIClient(os.environ.get('SENDGRID_API_KEY'))\n",
    "    response = sg.send(message)\n",
    "    print(response.status_code)\n",
    "    print(response.body)\n",
    "    print(response.headers)\n",
    "except Exception as e:\n",
    "    print(e.body)"
   ]
  },
  {
   "cell_type": "code",
   "execution_count": null,
   "metadata": {
    "ExecuteTime": {
     "end_time": "2020-04-29T15:49:18.265816Z",
     "start_time": "2020-04-29T15:49:18.246535Z"
    }
   },
   "outputs": [],
   "source": []
  },
  {
   "cell_type": "code",
   "execution_count": null,
   "metadata": {
    "ExecuteTime": {
     "end_time": "2020-04-29T15:54:07.604575Z",
     "start_time": "2020-04-29T15:54:07.591993Z"
    }
   },
   "outputs": [],
   "source": []
  },
  {
   "cell_type": "code",
   "execution_count": null,
   "metadata": {
    "ExecuteTime": {
     "end_time": "2020-04-29T15:54:19.068467Z",
     "start_time": "2020-04-29T15:54:19.060741Z"
    }
   },
   "outputs": [],
   "source": []
  },
  {
   "cell_type": "code",
   "execution_count": null,
   "metadata": {},
   "outputs": [],
   "source": []
  }
 ],
 "metadata": {
  "kernelspec": {
   "display_name": "Python 3",
   "language": "python",
   "name": "python3"
  },
  "language_info": {
   "codemirror_mode": {
    "name": "ipython",
    "version": 3
   },
   "file_extension": ".py",
   "mimetype": "text/x-python",
   "name": "python",
   "nbconvert_exporter": "python",
   "pygments_lexer": "ipython3",
   "version": "3.7.6"
  }
 },
 "nbformat": 4,
 "nbformat_minor": 4
}
