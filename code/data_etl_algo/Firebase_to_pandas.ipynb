{
 "cells": [
  {
   "cell_type": "markdown",
   "metadata": {},
   "source": [
    "# Possible useful material\n",
    "\n",
    "Handle list in pg: https://www.postgresqltutorial.com/postgresql-array/\n",
    "\n",
    "Handle dict in pg: https://www.postgresqltutorial.com/postgresql-json/"
   ]
  },
  {
   "cell_type": "code",
   "execution_count": 1,
   "metadata": {
    "ExecuteTime": {
     "end_time": "2020-04-16T16:47:08.601663Z",
     "start_time": "2020-04-16T16:47:06.969867Z"
    }
   },
   "outputs": [],
   "source": [
    "import pandas as pd\n",
    "\n",
    "import firebase_admin\n",
    "from firebase_admin import credentials\n",
    "from firebase_admin import firestore\n",
    "\n",
    "cred = credentials.Certificate(\"msds603-85328-firebase-adminsdk-a2ihu-62dc4cdda9.json\")\n",
    "firebase_admin.initialize_app(cred)\n",
    "\n",
    "db = firestore.client()"
   ]
  },
  {
   "cell_type": "markdown",
   "metadata": {},
   "source": [
    "# Load data from Firebase and convert to pandas form, data only has one layer"
   ]
  },
  {
   "cell_type": "code",
   "execution_count": 2,
   "metadata": {
    "ExecuteTime": {
     "end_time": "2020-04-16T16:47:09.694419Z",
     "start_time": "2020-04-16T16:47:08.606118Z"
    }
   },
   "outputs": [
    {
     "name": "stdout",
     "output_type": "stream",
     "text": [
      "{'email': 'geoffrey12177@gmail.com', 'emailVerified': False, 'displayName': 'Geoffrey Hung', 'photoURL': 'https://graph.facebook.com/10156812126096962/picture', 'uid': 'KkOoBVwjT3ZEmuNOtRI5yeMujgr1'}\n",
      "{'email': 'mikiotada198@gmail.com', 'emailVerified': False, 'displayName': 'Mikio Tada', 'photoURL': 'https://graph.facebook.com/1550575848423543/picture', 'uid': '4UOjpg8j4iNgR3JB50cSPqqRKj73'}\n",
      "{'uid': 'BSGVddeMZePOOKCBbyIdck1j9hr1', 'email': 'adorablesakshi23@gmail.com', 'emailVerified': False, 'displayName': 'Sakshi Singla', 'photoURL': 'https://graph.facebook.com/1941125389365719/picture'}\n",
      "{'displayName': 'Daren Ma', 'photoURL': 'https://graph.facebook.com/110602557274083/picture', 'uid': '8ffqHmmpkwaREo013p0iXFgyAS62', 'email': None, 'emailVerified': False}\n",
      "{'email': '124262742@qq.com', 'emailVerified': False, 'displayName': 'Zijun Lin', 'photoURL': 'https://graph.facebook.com/920906828386738/picture', 'uid': 'iJjGrMjXBWb5TFz1w04m5BWnIDs1'}\n"
     ]
    }
   ],
   "source": [
    "result = list()\n",
    "\n",
    "\n",
    "for doc_id in ['KkOoBVwjT3ZEmuNOtRI5yeMujgr1', '4UOjpg8j4iNgR3JB50cSPqqRKj73', 'BSGVddeMZePOOKCBbyIdck1j9hr1', '8ffqHmmpkwaREo013p0iXFgyAS62', 'iJjGrMjXBWb5TFz1w04m5BWnIDs1']:\n",
    "\n",
    "    doc_ref = db.collection(u'users').document(doc_id)\n",
    "\n",
    "    try:\n",
    "        doc = doc_ref.get()\n",
    "        print(doc.to_dict())\n",
    "        result.append(doc.to_dict())\n",
    "    except google.cloud.exceptions.NotFound:\n",
    "        print(u'No such document!')"
   ]
  },
  {
   "cell_type": "code",
   "execution_count": 3,
   "metadata": {
    "ExecuteTime": {
     "end_time": "2020-04-16T16:47:09.732322Z",
     "start_time": "2020-04-16T16:47:09.699545Z"
    }
   },
   "outputs": [
    {
     "data": {
      "text/html": [
       "<div>\n",
       "<style scoped>\n",
       "    .dataframe tbody tr th:only-of-type {\n",
       "        vertical-align: middle;\n",
       "    }\n",
       "\n",
       "    .dataframe tbody tr th {\n",
       "        vertical-align: top;\n",
       "    }\n",
       "\n",
       "    .dataframe thead th {\n",
       "        text-align: right;\n",
       "    }\n",
       "</style>\n",
       "<table border=\"1\" class=\"dataframe\">\n",
       "  <thead>\n",
       "    <tr style=\"text-align: right;\">\n",
       "      <th></th>\n",
       "      <th>email</th>\n",
       "      <th>emailVerified</th>\n",
       "      <th>displayName</th>\n",
       "      <th>photoURL</th>\n",
       "      <th>uid</th>\n",
       "    </tr>\n",
       "  </thead>\n",
       "  <tbody>\n",
       "    <tr>\n",
       "      <th>0</th>\n",
       "      <td>geoffrey12177@gmail.com</td>\n",
       "      <td>False</td>\n",
       "      <td>Geoffrey Hung</td>\n",
       "      <td>https://graph.facebook.com/10156812126096962/p...</td>\n",
       "      <td>KkOoBVwjT3ZEmuNOtRI5yeMujgr1</td>\n",
       "    </tr>\n",
       "    <tr>\n",
       "      <th>1</th>\n",
       "      <td>mikiotada198@gmail.com</td>\n",
       "      <td>False</td>\n",
       "      <td>Mikio Tada</td>\n",
       "      <td>https://graph.facebook.com/1550575848423543/pi...</td>\n",
       "      <td>4UOjpg8j4iNgR3JB50cSPqqRKj73</td>\n",
       "    </tr>\n",
       "    <tr>\n",
       "      <th>2</th>\n",
       "      <td>adorablesakshi23@gmail.com</td>\n",
       "      <td>False</td>\n",
       "      <td>Sakshi Singla</td>\n",
       "      <td>https://graph.facebook.com/1941125389365719/pi...</td>\n",
       "      <td>BSGVddeMZePOOKCBbyIdck1j9hr1</td>\n",
       "    </tr>\n",
       "    <tr>\n",
       "      <th>3</th>\n",
       "      <td>None</td>\n",
       "      <td>False</td>\n",
       "      <td>Daren Ma</td>\n",
       "      <td>https://graph.facebook.com/110602557274083/pic...</td>\n",
       "      <td>8ffqHmmpkwaREo013p0iXFgyAS62</td>\n",
       "    </tr>\n",
       "    <tr>\n",
       "      <th>4</th>\n",
       "      <td>124262742@qq.com</td>\n",
       "      <td>False</td>\n",
       "      <td>Zijun Lin</td>\n",
       "      <td>https://graph.facebook.com/920906828386738/pic...</td>\n",
       "      <td>iJjGrMjXBWb5TFz1w04m5BWnIDs1</td>\n",
       "    </tr>\n",
       "  </tbody>\n",
       "</table>\n",
       "</div>"
      ],
      "text/plain": [
       "                        email  emailVerified    displayName  \\\n",
       "0     geoffrey12177@gmail.com          False  Geoffrey Hung   \n",
       "1      mikiotada198@gmail.com          False     Mikio Tada   \n",
       "2  adorablesakshi23@gmail.com          False  Sakshi Singla   \n",
       "3                        None          False       Daren Ma   \n",
       "4            124262742@qq.com          False      Zijun Lin   \n",
       "\n",
       "                                            photoURL  \\\n",
       "0  https://graph.facebook.com/10156812126096962/p...   \n",
       "1  https://graph.facebook.com/1550575848423543/pi...   \n",
       "2  https://graph.facebook.com/1941125389365719/pi...   \n",
       "3  https://graph.facebook.com/110602557274083/pic...   \n",
       "4  https://graph.facebook.com/920906828386738/pic...   \n",
       "\n",
       "                            uid  \n",
       "0  KkOoBVwjT3ZEmuNOtRI5yeMujgr1  \n",
       "1  4UOjpg8j4iNgR3JB50cSPqqRKj73  \n",
       "2  BSGVddeMZePOOKCBbyIdck1j9hr1  \n",
       "3  8ffqHmmpkwaREo013p0iXFgyAS62  \n",
       "4  iJjGrMjXBWb5TFz1w04m5BWnIDs1  "
      ]
     },
     "execution_count": 3,
     "metadata": {},
     "output_type": "execute_result"
    }
   ],
   "source": [
    "pd.DataFrame(result)"
   ]
  },
  {
   "cell_type": "markdown",
   "metadata": {},
   "source": [
    "# Experiment with nested layers data"
   ]
  },
  {
   "cell_type": "code",
   "execution_count": 4,
   "metadata": {
    "ExecuteTime": {
     "end_time": "2020-04-16T16:47:09.863232Z",
     "start_time": "2020-04-16T16:47:09.741408Z"
    }
   },
   "outputs": [
    {
     "name": "stdout",
     "output_type": "stream",
     "text": [
      "{'preference': 'test_preference', 'status': 'NORMAL', 'profile': 'test_profile', 'map_test': {'alive': ['123', '456', '789'], 'dead': ['321', '654', '987']}, 'name': 'geoffrey'}\n"
     ]
    }
   ],
   "source": [
    "result = list()\n",
    "\n",
    "for doc_id in ['ZOYVJeO0dR1p682CwI28']:\n",
    "\n",
    "    doc_ref = db.collection(u'users').document(doc_id)\n",
    "\n",
    "    try:\n",
    "        doc = doc_ref.get()\n",
    "        print(doc.to_dict())\n",
    "        result.append(doc.to_dict())\n",
    "    except google.cloud.exceptions.NotFound:\n",
    "        print(u'No such document!')"
   ]
  },
  {
   "cell_type": "code",
   "execution_count": 5,
   "metadata": {
    "ExecuteTime": {
     "end_time": "2020-04-16T16:47:09.889189Z",
     "start_time": "2020-04-16T16:47:09.867346Z"
    }
   },
   "outputs": [
    {
     "data": {
      "text/html": [
       "<div>\n",
       "<style scoped>\n",
       "    .dataframe tbody tr th:only-of-type {\n",
       "        vertical-align: middle;\n",
       "    }\n",
       "\n",
       "    .dataframe tbody tr th {\n",
       "        vertical-align: top;\n",
       "    }\n",
       "\n",
       "    .dataframe thead th {\n",
       "        text-align: right;\n",
       "    }\n",
       "</style>\n",
       "<table border=\"1\" class=\"dataframe\">\n",
       "  <thead>\n",
       "    <tr style=\"text-align: right;\">\n",
       "      <th></th>\n",
       "      <th>preference</th>\n",
       "      <th>status</th>\n",
       "      <th>profile</th>\n",
       "      <th>map_test</th>\n",
       "      <th>name</th>\n",
       "    </tr>\n",
       "  </thead>\n",
       "  <tbody>\n",
       "    <tr>\n",
       "      <th>0</th>\n",
       "      <td>test_preference</td>\n",
       "      <td>NORMAL</td>\n",
       "      <td>test_profile</td>\n",
       "      <td>{'alive': ['123', '456', '789'], 'dead': ['321...</td>\n",
       "      <td>geoffrey</td>\n",
       "    </tr>\n",
       "  </tbody>\n",
       "</table>\n",
       "</div>"
      ],
      "text/plain": [
       "        preference  status       profile  \\\n",
       "0  test_preference  NORMAL  test_profile   \n",
       "\n",
       "                                            map_test      name  \n",
       "0  {'alive': ['123', '456', '789'], 'dead': ['321...  geoffrey  "
      ]
     },
     "execution_count": 5,
     "metadata": {},
     "output_type": "execute_result"
    }
   ],
   "source": [
    "test = pd.DataFrame(result)\n",
    "\n",
    "test"
   ]
  },
  {
   "cell_type": "markdown",
   "metadata": {},
   "source": [
    "# Access nested items in pandas"
   ]
  },
  {
   "cell_type": "code",
   "execution_count": 6,
   "metadata": {
    "ExecuteTime": {
     "end_time": "2020-04-16T16:47:09.923428Z",
     "start_time": "2020-04-16T16:47:09.894306Z"
    }
   },
   "outputs": [
    {
     "data": {
      "text/plain": [
       "0    {'alive': ['123', '456', '789'], 'dead': ['321...\n",
       "Name: map_test, dtype: object"
      ]
     },
     "execution_count": 6,
     "metadata": {},
     "output_type": "execute_result"
    }
   ],
   "source": [
    "test.map_test"
   ]
  },
  {
   "cell_type": "code",
   "execution_count": 7,
   "metadata": {
    "ExecuteTime": {
     "end_time": "2020-04-16T16:47:09.953939Z",
     "start_time": "2020-04-16T16:47:09.934354Z"
    }
   },
   "outputs": [
    {
     "data": {
      "text/plain": [
       "{'alive': ['123', '456', '789'], 'dead': ['321', '654', '987']}"
      ]
     },
     "execution_count": 7,
     "metadata": {},
     "output_type": "execute_result"
    }
   ],
   "source": [
    "test.map_test.to_dict()[0]"
   ]
  },
  {
   "cell_type": "code",
   "execution_count": 8,
   "metadata": {
    "ExecuteTime": {
     "end_time": "2020-04-16T16:47:09.974234Z",
     "start_time": "2020-04-16T16:47:09.965837Z"
    }
   },
   "outputs": [
    {
     "data": {
      "text/plain": [
       "True"
      ]
     },
     "execution_count": 8,
     "metadata": {},
     "output_type": "execute_result"
    }
   ],
   "source": [
    "'123' in test.map_test.to_dict()[0]['alive']"
   ]
  }
 ],
 "metadata": {
  "kernelspec": {
   "display_name": "Python 3",
   "language": "python",
   "name": "python3"
  },
  "language_info": {
   "codemirror_mode": {
    "name": "ipython",
    "version": 3
   },
   "file_extension": ".py",
   "mimetype": "text/x-python",
   "name": "python",
   "nbconvert_exporter": "python",
   "pygments_lexer": "ipython3",
   "version": "3.7.6"
  }
 },
 "nbformat": 4,
 "nbformat_minor": 4
}
