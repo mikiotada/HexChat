{
 "cells": [
  {
   "cell_type": "markdown",
   "metadata": {},
   "source": [
    "# Dummy Matching Algorithm"
   ]
  },
  {
   "cell_type": "code",
   "execution_count": 1,
   "metadata": {
    "ExecuteTime": {
     "end_time": "2020-05-01T01:28:47.905373Z",
     "start_time": "2020-05-01T01:28:46.903017Z"
    }
   },
   "outputs": [],
   "source": [
    "from utility_algo import *\n",
    "import pandas as pd\n",
    "import numpy as np\n",
    "from itertools import combinations"
   ]
  },
  {
   "cell_type": "code",
   "execution_count": 2,
   "metadata": {
    "ExecuteTime": {
     "end_time": "2020-05-01T01:28:47.965555Z",
     "start_time": "2020-05-01T01:28:47.909318Z"
    }
   },
   "outputs": [
    {
     "data": {
      "text/html": [
       "<div>\n",
       "<style scoped>\n",
       "    .dataframe tbody tr th:only-of-type {\n",
       "        vertical-align: middle;\n",
       "    }\n",
       "\n",
       "    .dataframe tbody tr th {\n",
       "        vertical-align: top;\n",
       "    }\n",
       "\n",
       "    .dataframe thead th {\n",
       "        text-align: right;\n",
       "    }\n",
       "</style>\n",
       "<table border=\"1\" class=\"dataframe\">\n",
       "  <thead>\n",
       "    <tr style=\"text-align: right;\">\n",
       "      <th></th>\n",
       "      <th>index</th>\n",
       "      <th>name</th>\n",
       "      <th>school</th>\n",
       "      <th>subject</th>\n",
       "      <th>grad_yr</th>\n",
       "      <th>zip</th>\n",
       "      <th>industry</th>\n",
       "      <th>title</th>\n",
       "      <th>country</th>\n",
       "      <th>language</th>\n",
       "      <th>connected</th>\n",
       "      <th>priority_tags</th>\n",
       "    </tr>\n",
       "  </thead>\n",
       "  <tbody>\n",
       "    <tr>\n",
       "      <th>0</th>\n",
       "      <td>0</td>\n",
       "      <td>青山 さゆり</td>\n",
       "      <td>['South China Normal University']</td>\n",
       "      <td>Biology</td>\n",
       "      <td>[2020]</td>\n",
       "      <td>94102</td>\n",
       "      <td>Banking</td>\n",
       "      <td>Student</td>\n",
       "      <td>France</td>\n",
       "      <td>['Spanish' 'Korean']</td>\n",
       "      <td>[112 119  20  98  31  93]</td>\n",
       "      <td>['tag_1', 'tag_12']</td>\n",
       "    </tr>\n",
       "    <tr>\n",
       "      <th>1</th>\n",
       "      <td>1</td>\n",
       "      <td>傅红梅</td>\n",
       "      <td>['University of California Berkeley']</td>\n",
       "      <td>Mechanical Engineering</td>\n",
       "      <td>[2014]</td>\n",
       "      <td>94103</td>\n",
       "      <td>Banking</td>\n",
       "      <td>UX Designer</td>\n",
       "      <td>United States</td>\n",
       "      <td>['Spanish' 'Cantonese']</td>\n",
       "      <td>[118  38 112  11]</td>\n",
       "      <td>['tag_18', 'tag_5', 'tag_15']</td>\n",
       "    </tr>\n",
       "    <tr>\n",
       "      <th>2</th>\n",
       "      <td>2</td>\n",
       "      <td>李红霞</td>\n",
       "      <td>['University of Chicago' 'University of Chicago']</td>\n",
       "      <td>Graphic Design</td>\n",
       "      <td>[2018 2014]</td>\n",
       "      <td>94108</td>\n",
       "      <td>Management Consulting</td>\n",
       "      <td>UX Designer</td>\n",
       "      <td>China</td>\n",
       "      <td>['Spanish']</td>\n",
       "      <td>[]</td>\n",
       "      <td>[]</td>\n",
       "    </tr>\n",
       "    <tr>\n",
       "      <th>3</th>\n",
       "      <td>3</td>\n",
       "      <td>Daniel Wagner</td>\n",
       "      <td>['University of Hong Kong']</td>\n",
       "      <td>Law</td>\n",
       "      <td>[2012]</td>\n",
       "      <td>94104</td>\n",
       "      <td>Computer Software</td>\n",
       "      <td>Product Manager</td>\n",
       "      <td>United States</td>\n",
       "      <td>['Chinese' 'Korean' 'Cantonese']</td>\n",
       "      <td>[104  46  17  20  12  20   7  45 103 109   6  22]</td>\n",
       "      <td>['tag_1', 'tag_7']</td>\n",
       "    </tr>\n",
       "    <tr>\n",
       "      <th>4</th>\n",
       "      <td>4</td>\n",
       "      <td>Cristian Santos</td>\n",
       "      <td>['University of Michigan Ann Arbor']</td>\n",
       "      <td>Business Administration and Management</td>\n",
       "      <td>[2020]</td>\n",
       "      <td>94101</td>\n",
       "      <td>Financial Services</td>\n",
       "      <td>Product Manager</td>\n",
       "      <td>China</td>\n",
       "      <td>['Korean' 'Japanese']</td>\n",
       "      <td>[107  95  74  85  21 106  88  21  91  28  12  ...</td>\n",
       "      <td>['tag_16']</td>\n",
       "    </tr>\n",
       "  </tbody>\n",
       "</table>\n",
       "</div>"
      ],
      "text/plain": [
       "   index             name                                             school  \\\n",
       "0      0           青山 さゆり                  ['South China Normal University']   \n",
       "1      1              傅红梅              ['University of California Berkeley']   \n",
       "2      2              李红霞  ['University of Chicago' 'University of Chicago']   \n",
       "3      3    Daniel Wagner                        ['University of Hong Kong']   \n",
       "4      4  Cristian Santos               ['University of Michigan Ann Arbor']   \n",
       "\n",
       "                                  subject      grad_yr    zip  \\\n",
       "0                                 Biology       [2020]  94102   \n",
       "1                  Mechanical Engineering       [2014]  94103   \n",
       "2                          Graphic Design  [2018 2014]  94108   \n",
       "3                                     Law       [2012]  94104   \n",
       "4  Business Administration and Management       [2020]  94101   \n",
       "\n",
       "                industry            title        country  \\\n",
       "0                Banking          Student         France   \n",
       "1                Banking      UX Designer  United States   \n",
       "2  Management Consulting      UX Designer          China   \n",
       "3      Computer Software  Product Manager  United States   \n",
       "4     Financial Services  Product Manager          China   \n",
       "\n",
       "                           language  \\\n",
       "0              ['Spanish' 'Korean']   \n",
       "1           ['Spanish' 'Cantonese']   \n",
       "2                       ['Spanish']   \n",
       "3  ['Chinese' 'Korean' 'Cantonese']   \n",
       "4             ['Korean' 'Japanese']   \n",
       "\n",
       "                                           connected  \\\n",
       "0                          [112 119  20  98  31  93]   \n",
       "1                                  [118  38 112  11]   \n",
       "2                                                 []   \n",
       "3  [104  46  17  20  12  20   7  45 103 109   6  22]   \n",
       "4  [107  95  74  85  21 106  88  21  91  28  12  ...   \n",
       "\n",
       "                   priority_tags  \n",
       "0            ['tag_1', 'tag_12']  \n",
       "1  ['tag_18', 'tag_5', 'tag_15']  \n",
       "2                             []  \n",
       "3             ['tag_1', 'tag_7']  \n",
       "4                     ['tag_16']  "
      ]
     },
     "execution_count": 2,
     "metadata": {},
     "output_type": "execute_result"
    }
   ],
   "source": [
    "data = pd.read_csv('data/sim_data_120_22Apr2020.csv')\n",
    "\n",
    "data = data.replace('\\n','', regex=True)\n",
    "\n",
    "data = data.reset_index()\n",
    "\n",
    "data.head()"
   ]
  },
  {
   "cell_type": "code",
   "execution_count": 3,
   "metadata": {
    "ExecuteTime": {
     "end_time": "2020-05-01T01:28:47.978970Z",
     "start_time": "2020-05-01T01:28:47.970653Z"
    }
   },
   "outputs": [],
   "source": [
    "ii_input = [\n",
    "#    ('grad_yr', 'MULT'),\n",
    "    \n",
    "    # career\n",
    "    ('industry', 'SINGLE'),\n",
    "    ('title', 'SINGLE'),\n",
    "    \n",
    "    # background\n",
    "    ('school', 'MULT'),    \n",
    "    ('subject', 'SINGLE'),\n",
    "    ('zip', 'SINGLE'),\n",
    "    ('country', 'SINGLE'),\n",
    "    ('language', 'MULT'),\n",
    "    \n",
    "    # priority\n",
    "    ('priority_tags', 'MULT')\n",
    "]"
   ]
  },
  {
   "cell_type": "markdown",
   "metadata": {
    "ExecuteTime": {
     "end_time": "2020-04-26T20:58:31.072376Z",
     "start_time": "2020-04-26T20:58:31.051208Z"
    }
   },
   "source": [
    "# Form subgroups\n",
    "\n",
    "The whole pool (all users) based on their two field pair, form subgroups of 2/3/4 ppl"
   ]
  },
  {
   "cell_type": "code",
   "execution_count": 4,
   "metadata": {
    "ExecuteTime": {
     "end_time": "2020-05-01T01:28:49.049191Z",
     "start_time": "2020-05-01T01:28:49.040882Z"
    }
   },
   "outputs": [],
   "source": [
    "# # helper functions, loaded to .py\n",
    "\n",
    "# def create_two_category_pair(priority_key='priority_tags'):\n",
    "#     \"\"\"\n",
    "#     use a fixed key and with another key in ii_input to create list of list\n",
    "#     Think of this as intersection of two sets where one set is fixed\n",
    "#     eg: this is the combination of priority_tags:tag_18 and language:Korean\n",
    "#         [['priority_tags', 'language'], ['tag_18', 'Korean'], 3, {16, 17, 53}]\n",
    "    \n",
    "#     \"\"\"\n",
    "#     remain_data = combined_inverted_index(data.iloc[data.index.isin(list(set(data['index']) - ids_in_subgroups))], ii_input)\n",
    "#     return two_category_pair(remain_data, priority_key)\n",
    "\n",
    "# def is_connected_before(data, valid_ids={0, 1, 8, 10}):\n",
    "#     \"\"\"\n",
    "#     When form the subgroups, we don't want to group those connected (or met)\n",
    "#     If the subgroup has only two ppl, we require they haven't met before\n",
    "#     If the subgroup has more than 2 ppl, we require they know one at most\n",
    "#     \"\"\"\n",
    "    \n",
    "#     # if subgroup is two ppl\n",
    "#     if len(valid_ids) == 2:\n",
    "#         threshold = 0\n",
    "#     # if subgroup is more than two ppl\n",
    "#     else:\n",
    "#         threshold = 1\n",
    "#     # Pandas shit, it changed the data structure, anyway what this does is:\n",
    "#     #    for each uid in valid_ids, use their connected field to check again subgroups\n",
    "#     #    eg: [0, 0, 1, 2] <- user 3 knows one ppl in the group, user 4 knows two ppl in the group\n",
    "#     tmp = [len(valid_ids.intersection(set([int(item) for item in data.iloc[i].connected[1:-1].split(' ') if item != '']))) for i in valid_ids]\n",
    "    \n",
    "#     return max(tmp) > threshold\n",
    "\n",
    "# def break_to_subgroups(num=19):\n",
    "#     \"\"\"\n",
    "#     Break the numbers to be consisted of 2 or 3 or 4 only\n",
    "#     \"\"\"\n",
    "    \n",
    "#     result = list()\n",
    "#     if num == 4:\n",
    "#         return [4]\n",
    "#     elif num == 5:\n",
    "#         return [2, 3]\n",
    "#     elif num == 6:\n",
    "#         return [3, 3]\n",
    "\n",
    "#     else:\n",
    "#         result.append([3])\n",
    "#         result.append(break_to_subgroups(num-3))\n",
    "#     return [item for sublist in result for item in sublist]\n",
    "\n",
    "# def remain_users(data, ids_processed, uid_field_name='index'):\n",
    "#     \"\"\"\n",
    "#     based on current processed uid, get the pandas for the remaining users\n",
    "#     \"\"\"\n",
    "#     return data.loc[~data['index'].isin(ids_processed)]\n"
   ]
  },
  {
   "cell_type": "code",
   "execution_count": 5,
   "metadata": {
    "ExecuteTime": {
     "end_time": "2020-05-01T01:28:49.406342Z",
     "start_time": "2020-05-01T01:28:49.400149Z"
    }
   },
   "outputs": [],
   "source": [
    "ids_in_subgroups = set()\n",
    "subgroups = list()"
   ]
  },
  {
   "cell_type": "code",
   "execution_count": null,
   "metadata": {},
   "outputs": [],
   "source": []
  },
  {
   "cell_type": "code",
   "execution_count": 6,
   "metadata": {
    "ExecuteTime": {
     "end_time": "2020-05-01T01:28:50.432280Z",
     "start_time": "2020-05-01T01:28:50.305304Z"
    }
   },
   "outputs": [
    {
     "name": "stdout",
     "output_type": "stream",
     "text": [
      "priority order: ['priority_tags', 'industry', 'school', 'country', 'title', 'language']\n",
      "\n",
      "------start-----to-----form-----subgroup------\n",
      "\n",
      "subgroup of 3 ppl is formed for {64, 107, 4} based on ['priority_tags', 'school']\n",
      "subgroup of 2 ppl is formed for {112, 113} based on ['priority_tags', 'school']\n",
      "subgroup of 3 ppl is formed for {116, 62, 55} based on ['priority_tags', 'school']\n",
      "subgroup of 3 ppl is formed for {16, 67, 53} based on ['priority_tags', 'country']\n",
      "subgroup of 2 ppl is formed for {56, 51} based on ['priority_tags', 'country']\n",
      "subgroup of 2 ppl is formed for {81, 49} based on ['priority_tags', 'country']\n",
      "subgroup of 4 ppl is formed for {75, 23, 13, 31} based on ['priority_tags', 'language']\n",
      "subgroup of 3 ppl is formed for {89, 115, 44} based on ['priority_tags', 'school']\n",
      "subgroup of 4 ppl is formed for {11, 59, 3, 39} based on ['priority_tags', 'zip']\n",
      "subgroup of 2 ppl is formed for {32, 76} based on ['priority_tags', 'country']\n",
      "subgroup of 3 ppl is formed for {50, 60, 119} based on ['priority_tags', 'country']\n",
      "subgroup of 2 ppl is formed for {106, 58} based on ['priority_tags', 'subject']\n",
      "subgroup of 2 ppl is formed for {72, 110} based on ['priority_tags', 'subject']\n",
      "subgroup of 3 ppl is formed for {96, 35, 109} based on ['priority_tags', 'title']\n",
      "subgroup of 4 ppl is formed for {24, 15, 92, 111} based on ['priority_tags', 'title']\n",
      "subgroup of 2 ppl is formed for {1, 79} based on ['priority_tags', 'zip']\n",
      "subgroup of 2 ppl is formed for {36, 21} based on ['priority_tags', 'school']\n",
      "subgroup of 3 ppl is formed for {97, 47, 103} based on ['priority_tags', 'language']\n",
      "subgroup of 2 ppl is formed for {45, 63} based on ['priority_tags', 'country']\n",
      "subgroup of 3 ppl is formed for {34, 100, 20} based on ['priority_tags', 'industry']\n",
      "subgroup of 2 ppl is formed for {8, 71} based on ['priority_tags', 'title']\n",
      "subgroup of 2 ppl is formed for {42, 78} based on ['priority_tags', 'industry']\n",
      "subgroup of 3 ppl is formed for {33, 85, 70} based on ['priority_tags', 'industry']\n",
      "subgroup of 2 ppl is formed for {68, 46} based on ['priority_tags', 'subject']\n",
      "subgroup of 3 ppl is formed for {0, 104, 6} based on ['priority_tags', 'subject']\n",
      "subgroup of 2 ppl is formed for {17, 101} based on ['priority_tags', 'language']\n",
      "subgroup of 2 ppl is formed for {114, 94} based on ['priority_tags', 'school']\n",
      "subgroup of 3 ppl is formed for {9, 52, 54} based on ['priority_tags', 'industry']\n",
      "subgroup of 2 ppl is formed for {99, 108} based on ['priority_tags', 'language']\n",
      "subgroup of 3 ppl is formed for {65, 10, 91} based on ['priority_tags', 'language']\n",
      "subgroup of 2 ppl is formed for {73, 30} based on ['priority_tags', 'country']\n",
      "subgroup of 2 ppl is formed for {105, 69} based on ['priority_tags', 'title']\n",
      "subgroup of 2 ppl is formed for {2, 28} based on ['industry', 'language']\n",
      "subgroup of 3 ppl is formed for {83, 117, 118} based on ['industry', 'language']\n",
      "subgroup of 2 ppl is formed for {80, 98} based on ['industry', 'language']\n",
      "subgroup of 2 ppl is formed for {37, 93} based on ['industry', 'school']\n",
      "subgroup of 2 ppl is formed for {48, 95} based on ['industry', 'zip']\n",
      "subgroup of 2 ppl is formed for {74, 14} based on ['industry', 'title']\n",
      "subgroup of 2 ppl is formed for {88, 66} based on ['industry', 'language']\n",
      "subgroup of 4 ppl is formed for {41, 7, 86, 87} based on ['industry', 'language']\n",
      "subgroup of 2 ppl is formed for {57, 84} based on ['industry', 'school']\n",
      "subgroup of 2 ppl is formed for {90, 77} based on ['industry', 'country']\n",
      "subgroup of 2 ppl is formed for {25, 12} based on ['school', 'country']\n",
      "subgroup of 2 ppl is formed for {43, 19} based on ['school', 'language']\n",
      "subgroup of 2 ppl is formed for {29, 5} based on ['school', 'zip']\n",
      "subgroup of 3 ppl is formed for {18, 27, 82} based on ['language', 'country']\n",
      "subgroup of 3 ppl is formed for {102, 61, 38} based on ['language', 'country']\n",
      "\n",
      "3 ppl are NOT in the group yet\n"
     ]
    }
   ],
   "source": [
    "# priority_key means that key must be included as one of the two columns\n",
    "\n",
    "# order also matters here\n",
    "priority_keys = ['priority_tags', 'industry', 'school', 'country', 'title', 'language']\n",
    "\n",
    "print(f'priority order: {priority_keys}\\n')\n",
    "\n",
    "print(f'------start-----to-----form-----subgroup------\\n')\n",
    "\n",
    "# prefer bigger subgroups first, if can't form, then allow for two ppl subgroups\n",
    "for subgroup_size in [[2, 3, 4], [2, 3, 4]]:\n",
    "    for priority_key in priority_keys:\n",
    "\n",
    "        # created intersection set based on two categories\n",
    "        tmp = create_two_category_pair(data, ids_in_subgroups, ii_input, priority_key)\n",
    "\n",
    "        # introduce some randomness factors, can assign weight later\n",
    "        for idx in np.random.choice(range(len(tmp)), len(tmp)//2, replace=False):\n",
    "\n",
    "            selected_combo = tmp[int(idx)]\n",
    "\n",
    "            # check who are not in subgroups [need to form subgroups for them]\n",
    "            valid_ids = tmp[int(idx)][3] - ids_in_subgroups\n",
    "\n",
    "            # form subgroup in 2/3/4 ppl, also requires most of them haven't met before\n",
    "            if len(valid_ids) in subgroup_size and not is_connected_before(data, valid_ids):\n",
    "                ids_in_subgroups.update(valid_ids)\n",
    "                subgroups.append([selected_combo[0], selected_combo[1], len(valid_ids), valid_ids])\n",
    "                print(f'subgroup of {len(valid_ids)} ppl is formed for {valid_ids} based on {selected_combo[0]}')\n",
    "\n",
    "            # if many ppl, break them down into smaller subgroup\n",
    "            elif len(valid_ids) > 4:\n",
    "                valid_ids_lst = list(valid_ids)\n",
    "                # use break_to_subgroups function to decide the break ratio\n",
    "                for num in break_to_subgroups(num=len(valid_ids_lst)):\n",
    "\n",
    "                    # haven't connected before, create subgroup\n",
    "                    if not is_connected_before(data, valid_ids):\n",
    "                        ids_in_subgroups.update(set(valid_ids_lst[:num]))\n",
    "                        subgroups.append([selected_combo[0], selected_combo[1], num, set(valid_ids_lst[:num])])\n",
    "                        print(f'subgroup of {num} ppl is formed for {set(valid_ids_lst[:num])} based on {selected_combo[0]}')                    \n",
    "                        valid_ids_lst = valid_ids_lst[num:]\n",
    "\n",
    "                    # connected before, skip this subgroup                    \n",
    "                    else:\n",
    "                        valid_ids_lst = valid_ids_lst[num:]\n",
    "\n",
    "print(f'\\n{len(remain_users(data, ids_in_subgroups))} ppl are NOT in the group yet')"
   ]
  },
  {
   "cell_type": "code",
   "execution_count": 7,
   "metadata": {
    "ExecuteTime": {
     "end_time": "2020-05-01T01:28:53.046689Z",
     "start_time": "2020-05-01T01:28:53.037568Z"
    }
   },
   "outputs": [
    {
     "data": {
      "text/plain": [
       "117"
      ]
     },
     "execution_count": 7,
     "metadata": {},
     "output_type": "execute_result"
    }
   ],
   "source": [
    "len(ids_in_subgroups)"
   ]
  },
  {
   "cell_type": "code",
   "execution_count": 8,
   "metadata": {
    "ExecuteTime": {
     "end_time": "2020-05-01T01:28:53.349385Z",
     "start_time": "2020-05-01T01:28:53.326616Z"
    }
   },
   "outputs": [
    {
     "data": {
      "text/html": [
       "<div>\n",
       "<style scoped>\n",
       "    .dataframe tbody tr th:only-of-type {\n",
       "        vertical-align: middle;\n",
       "    }\n",
       "\n",
       "    .dataframe tbody tr th {\n",
       "        vertical-align: top;\n",
       "    }\n",
       "\n",
       "    .dataframe thead th {\n",
       "        text-align: right;\n",
       "    }\n",
       "</style>\n",
       "<table border=\"1\" class=\"dataframe\">\n",
       "  <thead>\n",
       "    <tr style=\"text-align: right;\">\n",
       "      <th></th>\n",
       "      <th>index</th>\n",
       "      <th>name</th>\n",
       "      <th>school</th>\n",
       "      <th>subject</th>\n",
       "      <th>grad_yr</th>\n",
       "      <th>zip</th>\n",
       "      <th>industry</th>\n",
       "      <th>title</th>\n",
       "      <th>country</th>\n",
       "      <th>language</th>\n",
       "      <th>connected</th>\n",
       "      <th>priority_tags</th>\n",
       "    </tr>\n",
       "  </thead>\n",
       "  <tbody>\n",
       "    <tr>\n",
       "      <th>22</th>\n",
       "      <td>22</td>\n",
       "      <td>Tommy Walter</td>\n",
       "      <td>['University of Southern California']</td>\n",
       "      <td>Economics</td>\n",
       "      <td>[2020]</td>\n",
       "      <td>94101</td>\n",
       "      <td>Accounting</td>\n",
       "      <td>Researcher</td>\n",
       "      <td>China</td>\n",
       "      <td>['Korean']</td>\n",
       "      <td>[ 77  74 102   8  89  15  68 115]</td>\n",
       "      <td>[]</td>\n",
       "    </tr>\n",
       "    <tr>\n",
       "      <th>26</th>\n",
       "      <td>26</td>\n",
       "      <td>佐々木 くみ子</td>\n",
       "      <td>['The Chinese University of Hong Kong' 'Univer...</td>\n",
       "      <td>Computer Science</td>\n",
       "      <td>[2017 2010]</td>\n",
       "      <td>94110</td>\n",
       "      <td>Banking</td>\n",
       "      <td>Data Scientist</td>\n",
       "      <td>France</td>\n",
       "      <td>['Cantonese']</td>\n",
       "      <td>[ 89   3 102  38 113  34   0  23  56]</td>\n",
       "      <td>[]</td>\n",
       "    </tr>\n",
       "    <tr>\n",
       "      <th>40</th>\n",
       "      <td>40</td>\n",
       "      <td>Sherry Decker</td>\n",
       "      <td>['University of California Berkeley']</td>\n",
       "      <td>Marketing</td>\n",
       "      <td>[2011]</td>\n",
       "      <td>94109</td>\n",
       "      <td>Banking</td>\n",
       "      <td>Product Manager</td>\n",
       "      <td>Japan</td>\n",
       "      <td>['Japanese' 'Chinese']</td>\n",
       "      <td>[ 73  84   4   1  21 111  56  65  73  97]</td>\n",
       "      <td>['tag_17']</td>\n",
       "    </tr>\n",
       "  </tbody>\n",
       "</table>\n",
       "</div>"
      ],
      "text/plain": [
       "    index           name                                             school  \\\n",
       "22     22   Tommy Walter              ['University of Southern California']   \n",
       "26     26        佐々木 くみ子  ['The Chinese University of Hong Kong' 'Univer...   \n",
       "40     40  Sherry Decker              ['University of California Berkeley']   \n",
       "\n",
       "             subject      grad_yr    zip    industry            title country  \\\n",
       "22         Economics       [2020]  94101  Accounting       Researcher   China   \n",
       "26  Computer Science  [2017 2010]  94110     Banking   Data Scientist  France   \n",
       "40         Marketing       [2011]  94109     Banking  Product Manager   Japan   \n",
       "\n",
       "                  language                                  connected  \\\n",
       "22              ['Korean']          [ 77  74 102   8  89  15  68 115]   \n",
       "26           ['Cantonese']      [ 89   3 102  38 113  34   0  23  56]   \n",
       "40  ['Japanese' 'Chinese']  [ 73  84   4   1  21 111  56  65  73  97]   \n",
       "\n",
       "   priority_tags  \n",
       "22            []  \n",
       "26            []  \n",
       "40    ['tag_17']  "
      ]
     },
     "execution_count": 8,
     "metadata": {},
     "output_type": "execute_result"
    }
   ],
   "source": [
    "remain_users(data, ids_in_subgroups)"
   ]
  },
  {
   "cell_type": "markdown",
   "metadata": {
    "ExecuteTime": {
     "end_time": "2020-04-26T20:55:07.459093Z",
     "start_time": "2020-04-26T20:55:07.451198Z"
    }
   },
   "source": [
    "# Combine subgroups\n",
    "\n",
    "Combine subgroups into a  4/5/6/7/8 ppl groups"
   ]
  },
  {
   "cell_type": "code",
   "execution_count": 9,
   "metadata": {
    "ExecuteTime": {
     "end_time": "2020-05-01T01:28:55.784350Z",
     "start_time": "2020-05-01T01:28:55.772933Z"
    }
   },
   "outputs": [],
   "source": [
    "# # helper functions, loaded to .py\n",
    "\n",
    "# def subgroup_compare(subgroup_1, subgroup_2):\n",
    "#     pair = dict()\n",
    "    \n",
    "#     pair['subgroup_keys'] = set().union(subgroup_1[0], subgroup_2[0])\n",
    "#     pair['subgroup_uids'] = set().union(subgroup_1[3], subgroup_2[3])\n",
    "#     pair['each_uids'] = [subgroup_1[3], subgroup_2[3]]\n",
    "#     return pair\n",
    "\n",
    "# # pair = subgroup_compare(subgroups[0], subgroups[1])\n",
    "# # pair\n",
    "\n",
    "# def decide_merge_subgroups(data, pair, similarity_shared_by=3):\n",
    "#     tmp = combined_inverted_index(data.loc[data['index'].isin(list(pair['subgroup_uids']))], ii_input)\n",
    "\n",
    "#     # we want to merge the subgroups, each subgroup is grouped by its own reason\n",
    "#     # we need to find other similarity b/w both to combine them\n",
    "\n",
    "#     # explore other cols\n",
    "#     for key in set(priority_keys) - pair['subgroup_keys']:\n",
    "\n",
    "#         for item in tmp[key].items():\n",
    "#             # A similarity is shared by 3 + ppl\n",
    "#             if len(item[1]) >= similarity_shared_by and len(item[1]-pair['each_uids'][0]) != 0 and len(item[1]-pair['each_uids'][1]) != 0:\n",
    "#                 print(f'Group of {len(pair[\"subgroup_uids\"])} ppl is formed based on {key}')\n",
    "#                 return True\n",
    "#             else:\n",
    "#                 return False\n",
    "\n",
    "# def decide_merge_single_user(data, group_set, individual_set, similarity_cnt_threshold=2, similarity_shared_by=3):\n",
    "#     # if new fd <= 2, don't merge\n",
    "#     if len(group_set - (set([int(item) for item in data.iloc[individual_set].connected[1:-1].split(' ') if item != '']))) <= 2:\n",
    "#         return False\n",
    "    \n",
    "#     similarity_count = 0\n",
    "#     tmp = combined_inverted_index(data.loc[data['index'].isin(list(group_set.union({individual_set})))], ii_input)\n",
    "#     for key in set(priority_keys):\n",
    "        \n",
    "#         for item in tmp[key].items():\n",
    "#             # A similarity is shared by 3 + ppl and include single user\n",
    "#             if len(item[1]) >= similarity_shared_by and len(item[1]-{individual_set}) != 0:\n",
    "#                 similarity_count += 1\n",
    "\n",
    "#     # 2 similarity\n",
    "#     if similarity_count >= similarity_cnt_threshold:\n",
    "#         return True\n",
    "#     else:\n",
    "#         return False        \n",
    "\n",
    "# def which_group(data, priority_keys, groups, uid, similarity_cnt_threshold=2, similarity_shared_by=3):    \n",
    "#     lst = list(enumerate([(decide_merge_single_user(data, group, uid, similarity_cnt_threshold, similarity_shared_by), len(group)) for group in groups]))\n",
    "    \n",
    "#     for i in [4, 5, 6]:\n",
    "#         res = [item for item in lst if item[1][0] and item[1][1]==i]\n",
    "#         if res == []:\n",
    "#             pass\n",
    "#         else:\n",
    "#             return res[0][0]\n",
    "#     return -1"
   ]
  },
  {
   "cell_type": "code",
   "execution_count": 10,
   "metadata": {
    "ExecuteTime": {
     "end_time": "2020-05-01T01:28:56.046527Z",
     "start_time": "2020-05-01T01:28:56.038910Z"
    }
   },
   "outputs": [
    {
     "data": {
      "text/plain": [
       "47"
      ]
     },
     "execution_count": 10,
     "metadata": {},
     "output_type": "execute_result"
    }
   ],
   "source": [
    "subgroups_remain = list(range(len(subgroups)))\n",
    "\n",
    "len(subgroups_remain)"
   ]
  },
  {
   "cell_type": "code",
   "execution_count": 11,
   "metadata": {
    "ExecuteTime": {
     "end_time": "2020-05-01T01:28:56.558530Z",
     "start_time": "2020-05-01T01:28:56.552442Z"
    }
   },
   "outputs": [],
   "source": [
    "ids_in_groups = set()\n",
    "groups = list()"
   ]
  },
  {
   "cell_type": "code",
   "execution_count": 12,
   "metadata": {
    "ExecuteTime": {
     "end_time": "2020-05-01T01:28:59.619874Z",
     "start_time": "2020-05-01T01:28:57.894119Z"
    }
   },
   "outputs": [
    {
     "name": "stdout",
     "output_type": "stream",
     "text": [
      "similarity shared by: 3\n",
      "Group of 4 ppl is formed based on language\n",
      "Group of 6 ppl is formed based on language\n",
      "Group of 6 ppl is formed based on language\n",
      "Group of 4 ppl is formed based on language\n",
      "Group of 5 ppl is formed based on school\n",
      "Group of 5 ppl is formed based on school\n",
      "Group of 4 ppl is formed based on priority_tags\n",
      "Group of 4 ppl is formed based on school\n",
      "Group of 6 ppl is formed based on school\n",
      "Group of 5 ppl is formed based on language\n",
      "Group of 6 ppl is formed based on school\n",
      "Group of 5 ppl is formed based on language\n",
      "Group of 5 ppl is formed based on language\n",
      "Group of 4 ppl is formed based on language\n",
      "Group of 5 ppl is formed based on language\n",
      "Group of 5 ppl is formed based on title\n",
      "Group of 4 ppl is formed based on priority_tags\n",
      "Group of 4 ppl is formed based on school\n",
      "Group of 7 ppl is formed based on school\n",
      "\n",
      "Remain users: 26\n",
      "\n",
      "similarity shared by: 2\n",
      "\n",
      "Remain users: 26\n",
      "\n"
     ]
    }
   ],
   "source": [
    "for shared_by in [3, 2]:\n",
    "    print(f'similarity shared by: {shared_by}')\n",
    "    count = 0\n",
    "    while len(subgroups_remain) > 2 and count < 20:\n",
    "        count += 1\n",
    "        lst = list(combinations(subgroups_remain, 2))\n",
    "        np.random.shuffle(lst)\n",
    "        for subgroups_pair in lst:\n",
    "            pair = subgroup_compare(subgroups[subgroups_pair[0]], subgroups[subgroups_pair[1]])\n",
    "            if decide_merge_subgroups(data, ii_input, priority_keys, pair, similarity_shared_by=3):\n",
    "                ids_in_groups.update(pair['subgroup_uids'])\n",
    "                groups.append(pair['subgroup_uids'])\n",
    "                subgroups_remain = [ele for ele in subgroups_remain if ele not in list(subgroups_pair)]\n",
    "                break\n",
    "\n",
    "    print(f'\\nRemain users: {len(remain_users(data, ids_in_groups).index)}\\n')\n",
    "\n",
    "\n",
    "# count = 0\n",
    "# while len(subgroups_remain) > 2 and count < 20:\n",
    "#     count += 1\n",
    "#     lst = list(combinations(subgroups_remain, 2))\n",
    "#     np.random.shuffle(lst)\n",
    "#     for subgroups_pair in lst:\n",
    "#         pair = subgroup_compare(subgroups[subgroups_pair[0]], subgroups[subgroups_pair[1]])\n",
    "#         if decide_merge_subgroups(data, pair, similarity_shared_by=2):\n",
    "#             ids_in_groups.update(pair['subgroup_uids'])\n",
    "#             groups.append(pair['subgroup_uids'])\n",
    "#             subgroups_remain = [ele for ele in subgroups_remain if ele not in list(subgroups_pair)]\n",
    "#             break\n",
    "\n",
    "# print(f'\\nRemain users: {len(remain_users(data, ids_in_groups).index)}')"
   ]
  },
  {
   "cell_type": "markdown",
   "metadata": {},
   "source": [
    "# Assign the remained individuals\n",
    "\n",
    "Assign them to the existed groups"
   ]
  },
  {
   "cell_type": "code",
   "execution_count": 13,
   "metadata": {
    "ExecuteTime": {
     "end_time": "2020-05-01T01:29:13.213245Z",
     "start_time": "2020-05-01T01:29:13.201564Z"
    }
   },
   "outputs": [
    {
     "data": {
      "text/plain": [
       "Int64Index([  9,  10,  17,  22,  26,  33,  40,  47,  52,  54,  65,  69,  70,\n",
       "             77,  83,  85,  90,  91,  97,  99, 101, 103, 105, 108, 117, 118],\n",
       "           dtype='int64')"
      ]
     },
     "execution_count": 13,
     "metadata": {},
     "output_type": "execute_result"
    }
   ],
   "source": [
    "remain_users(data, ids_in_groups).index\n",
    "\n",
    "# len(ids_in_groups)"
   ]
  },
  {
   "cell_type": "code",
   "execution_count": 15,
   "metadata": {
    "ExecuteTime": {
     "end_time": "2020-05-01T01:29:44.480439Z",
     "start_time": "2020-05-01T01:29:42.947878Z"
    }
   },
   "outputs": [
    {
     "name": "stdout",
     "output_type": "stream",
     "text": [
      "9 is assigned to {84, 9, 73, 30, 57}\n",
      "10 is assigned to {51, 56, 25, 10, 12}\n",
      "17 is assigned to {80, 17, 98, 37, 93}\n",
      "22 is assigned to {68, 22, 45, 46, 63}\n",
      "26 is assigned to {112, 113, 81, 49, 26}\n",
      "33 is assigned to {33, 2, 19, 43, 28}\n",
      "40 is assigned to {110, 40, 72, 42, 78}\n",
      "47 is assigned to {84, 9, 73, 47, 30, 57}\n",
      "52 is assigned to {51, 52, 56, 25, 10, 12}\n",
      "54 is assigned to {1, 18, 82, 54, 27, 79}\n",
      "65 is assigned to {96, 65, 66, 35, 88, 109}\n",
      "69 is assigned to {80, 17, 98, 37, 69, 93}\n",
      "70 is assigned to {68, 22, 70, 45, 46, 63}\n",
      "77 is assigned to {16, 114, 67, 53, 77, 94}\n",
      "83 is assigned to {50, 83, 36, 21, 119, 60}\n",
      "85 is assigned to {32, 115, 85, 89, 44, 76}\n",
      "90 is assigned to {112, 113, 81, 49, 90, 26}\n",
      "91 is assigned to {116, 14, 55, 74, 91, 62}\n",
      "97 is assigned to {0, 97, 58, 6, 104, 106}\n",
      "99 is assigned to {33, 2, 19, 99, 43, 28}\n",
      "101 is assigned to {110, 40, 101, 72, 42, 78}\n",
      "103 is assigned to {84, 103, 9, 73, 47, 30, 57}\n",
      "105 is assigned to {64, 34, 4, 100, 20, 105, 107}\n",
      "108 is assigned to {3, 5, 39, 59, 11, 108, 29}\n",
      "117 is assigned to {51, 52, 117, 56, 25, 10, 12}\n",
      "118 is assigned to {1, 18, 82, 54, 118, 27, 79}\n"
     ]
    }
   ],
   "source": [
    "for uid in remain_users(data, ids_in_groups).index:\n",
    "    \n",
    "    group_idx = which_group(data, priority_keys, ii_input, groups, uid, similarity_cnt_threshold=1, similarity_shared_by=2)\n",
    "    \n",
    "    if group_idx == -1:\n",
    "        print(f'{uid} cannot find subgroup')\n",
    "    else:\n",
    "        groups[group_idx].update({uid})\n",
    "        ids_in_groups.update({uid})\n",
    "        print(f'{uid} is assigned to {groups[group_idx]}')\n",
    "    \n",
    "    \n",
    "#     print(which_group(data, priority_keys, groups, uid))"
   ]
  },
  {
   "cell_type": "code",
   "execution_count": 16,
   "metadata": {
    "ExecuteTime": {
     "end_time": "2020-05-01T01:29:47.285190Z",
     "start_time": "2020-05-01T01:29:47.271306Z"
    }
   },
   "outputs": [
    {
     "data": {
      "text/plain": [
       "[{9, 30, 47, 57, 73, 84, 103},\n",
       " {4, 20, 34, 64, 100, 105, 107},\n",
       " {3, 5, 11, 29, 39, 59, 108},\n",
       " {10, 12, 25, 51, 52, 56, 117},\n",
       " {1, 18, 27, 54, 79, 82, 118},\n",
       " {35, 65, 66, 88, 96, 109},\n",
       " {17, 37, 69, 80, 93, 98},\n",
       " {22, 45, 46, 63, 68, 70},\n",
       " {8, 13, 23, 31, 71, 75},\n",
       " {16, 53, 67, 77, 94, 114},\n",
       " {7, 41, 48, 86, 87, 95},\n",
       " {21, 36, 50, 60, 83, 119},\n",
       " {32, 44, 76, 85, 89, 115},\n",
       " {26, 49, 81, 90, 112, 113},\n",
       " {14, 55, 62, 74, 91, 116},\n",
       " {0, 6, 58, 97, 104, 106},\n",
       " {2, 19, 28, 33, 43, 99},\n",
       " {40, 42, 72, 78, 101, 110},\n",
       " {15, 24, 38, 61, 92, 102, 111}]"
      ]
     },
     "execution_count": 16,
     "metadata": {},
     "output_type": "execute_result"
    }
   ],
   "source": [
    "groups"
   ]
  },
  {
   "cell_type": "code",
   "execution_count": null,
   "metadata": {},
   "outputs": [],
   "source": []
  },
  {
   "cell_type": "code",
   "execution_count": null,
   "metadata": {},
   "outputs": [],
   "source": []
  },
  {
   "cell_type": "code",
   "execution_count": null,
   "metadata": {},
   "outputs": [],
   "source": []
  },
  {
   "cell_type": "code",
   "execution_count": null,
   "metadata": {},
   "outputs": [],
   "source": []
  }
 ],
 "metadata": {
  "kernelspec": {
   "display_name": "Python 3",
   "language": "python",
   "name": "python3"
  },
  "language_info": {
   "codemirror_mode": {
    "name": "ipython",
    "version": 3
   },
   "file_extension": ".py",
   "mimetype": "text/x-python",
   "name": "python",
   "nbconvert_exporter": "python",
   "pygments_lexer": "ipython3",
   "version": "3.7.6"
  }
 },
 "nbformat": 4,
 "nbformat_minor": 4
}
