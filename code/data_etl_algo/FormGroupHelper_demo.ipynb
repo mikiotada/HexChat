{
 "cells": [
  {
   "cell_type": "markdown",
   "metadata": {},
   "source": [
    "# Form group helper for matching algorithms\n",
    "\n",
    "After the group matching, it is important to create data with valid schema and pass to Firestore\n",
    "\n",
    "FormGroupHelper class can help to create the required JSON and validate the schema\n",
    "\n",
    "The goal is to protect us from making weird schema by accident"
   ]
  },
  {
   "cell_type": "code",
   "execution_count": 1,
   "metadata": {
    "ExecuteTime": {
     "end_time": "2020-04-23T18:22:14.983096Z",
     "start_time": "2020-04-23T18:22:14.846605Z"
    }
   },
   "outputs": [],
   "source": [
    "from utility_algo import FormGroupHelper, validate_json, form_group_schema\n",
    "\n",
    "import pprint"
   ]
  },
  {
   "cell_type": "code",
   "execution_count": 2,
   "metadata": {
    "ExecuteTime": {
     "end_time": "2020-04-23T18:22:15.003018Z",
     "start_time": "2020-04-23T18:22:14.987418Z"
    }
   },
   "outputs": [
    {
     "name": "stdout",
     "output_type": "stream",
     "text": [
      "{'properties': {'name': {'type': 'string'},\n",
      "                'test_str': {'properties': {'ending_str': {'type': 'array'},\n",
      "                                            'welcome_str': {'properties': {'content': {'type': 'string'},\n",
      "                                                                           'type': {'type': 'integer'}},\n",
      "                                                            'type': 'object'}},\n",
      "                             'type': 'object'},\n",
      "                'user_ids': {'type': 'array'}},\n",
      " 'required': ['name', 'user_ids', 'test_str'],\n",
      " 'type': 'object'}\n"
     ]
    }
   ],
   "source": [
    "# this is the schema\n",
    "pp = pprint.PrettyPrinter()\n",
    "\n",
    "pp.pprint(form_group_schema)"
   ]
  },
  {
   "cell_type": "code",
   "execution_count": 3,
   "metadata": {
    "ExecuteTime": {
     "end_time": "2020-04-23T18:22:15.033453Z",
     "start_time": "2020-04-23T18:22:15.010798Z"
    }
   },
   "outputs": [
    {
     "name": "stdout",
     "output_type": "stream",
     "text": [
      "Is this valid: True\n",
      "\n",
      "data looks like this: \n",
      "\n",
      "{'name': 'test_group',\n",
      " 'test_str': {'ending_str': [1, 2, 3],\n",
      "              'welcome_str': {'content': 'welcome~', 'type': 1}},\n",
      " 'user_ids': [1, 2, 3, 4, 5, 6]}\n"
     ]
    }
   ],
   "source": [
    "# Expect to pass, valid schema\n",
    "\n",
    "form_group_instance = FormGroupHelper(\n",
    "    name=\"test_group\", \n",
    "    user_ids=[1, 2, 3, 4, 5, 6], \n",
    "    welcome_str={\"type\": 1, \"content\": \"welcome~\"}, \n",
    "    ending_str=[1, 2, 3], \n",
    ")\n",
    "\n",
    "pp = pprint.PrettyPrinter()\n",
    "print('Is this valid: ' + str(form_group_instance.validate_data_for_API()))\n",
    "\n",
    "if form_group_instance.validate_data_for_API():\n",
    "    print('\\ndata looks like this: \\n')\n",
    "    pp.pprint(form_group_instance.prepare_data_for_API())"
   ]
  },
  {
   "cell_type": "code",
   "execution_count": 4,
   "metadata": {
    "ExecuteTime": {
     "end_time": "2020-04-23T18:22:15.218649Z",
     "start_time": "2020-04-23T18:22:15.039105Z"
    }
   },
   "outputs": [
    {
     "ename": "ValueError",
     "evalue": "'1' is not of type 'integer'\n\nFailed validating 'type' in schema['properties']['test_str']['properties']['welcome_str']['properties']['type']:\n    {'type': 'integer'}\n\nOn instance['test_str']['welcome_str']['type']:\n    '1'",
     "output_type": "error",
     "traceback": [
      "\u001b[0;31m---------------------------------------------------------------------------\u001b[0m",
      "\u001b[0;31mValidationError\u001b[0m                           Traceback (most recent call last)",
      "\u001b[0;32m~/Desktop/msds/sm2/product_analytics/2020-product-analytics-group-project-hexchat/code/flask_backend/utility_be.py\u001b[0m in \u001b[0;36mvalidate_json\u001b[0;34m(json_data, json_schema)\u001b[0m\n\u001b[1;32m     44\u001b[0m     \u001b[0;32mtry\u001b[0m\u001b[0;34m:\u001b[0m\u001b[0;34m\u001b[0m\u001b[0;34m\u001b[0m\u001b[0m\n\u001b[0;32m---> 45\u001b[0;31m         \u001b[0mvalidate\u001b[0m\u001b[0;34m(\u001b[0m\u001b[0minstance\u001b[0m\u001b[0;34m=\u001b[0m\u001b[0mjson_data\u001b[0m\u001b[0;34m,\u001b[0m \u001b[0mschema\u001b[0m\u001b[0;34m=\u001b[0m\u001b[0mjson_schema\u001b[0m\u001b[0;34m)\u001b[0m\u001b[0;34m\u001b[0m\u001b[0;34m\u001b[0m\u001b[0m\n\u001b[0m\u001b[1;32m     46\u001b[0m         \u001b[0;32mreturn\u001b[0m \u001b[0;32mTrue\u001b[0m\u001b[0;34m\u001b[0m\u001b[0;34m\u001b[0m\u001b[0m\n",
      "\u001b[0;32m~/opt/anaconda3/lib/python3.7/site-packages/jsonschema/validators.py\u001b[0m in \u001b[0;36mvalidate\u001b[0;34m(instance, schema, cls, *args, **kwargs)\u001b[0m\n\u001b[1;32m    933\u001b[0m     \u001b[0;32mif\u001b[0m \u001b[0merror\u001b[0m \u001b[0;32mis\u001b[0m \u001b[0;32mnot\u001b[0m \u001b[0;32mNone\u001b[0m\u001b[0;34m:\u001b[0m\u001b[0;34m\u001b[0m\u001b[0;34m\u001b[0m\u001b[0m\n\u001b[0;32m--> 934\u001b[0;31m         \u001b[0;32mraise\u001b[0m \u001b[0merror\u001b[0m\u001b[0;34m\u001b[0m\u001b[0;34m\u001b[0m\u001b[0m\n\u001b[0m\u001b[1;32m    935\u001b[0m \u001b[0;34m\u001b[0m\u001b[0m\n",
      "\u001b[0;31mValidationError\u001b[0m: '1' is not of type 'integer'\n\nFailed validating 'type' in schema['properties']['test_str']['properties']['welcome_str']['properties']['type']:\n    {'type': 'integer'}\n\nOn instance['test_str']['welcome_str']['type']:\n    '1'",
      "\nDuring handling of the above exception, another exception occurred:\n",
      "\u001b[0;31mValueError\u001b[0m                                Traceback (most recent call last)",
      "\u001b[0;32m<ipython-input-4-68748da00725>\u001b[0m in \u001b[0;36m<module>\u001b[0;34m\u001b[0m\n\u001b[1;32m      8\u001b[0m )\n\u001b[1;32m      9\u001b[0m \u001b[0;34m\u001b[0m\u001b[0m\n\u001b[0;32m---> 10\u001b[0;31m \u001b[0mform_group_instance\u001b[0m\u001b[0;34m.\u001b[0m\u001b[0mvalidate_data_for_API\u001b[0m\u001b[0;34m(\u001b[0m\u001b[0;34m)\u001b[0m\u001b[0;34m\u001b[0m\u001b[0;34m\u001b[0m\u001b[0m\n\u001b[0m",
      "\u001b[0;32m~/Desktop/msds/sm2/product_analytics/2020-product-analytics-group-project-hexchat/code/data_etl_algo/utility_algo.py\u001b[0m in \u001b[0;36mvalidate_data_for_API\u001b[0;34m(self)\u001b[0m\n\u001b[1;32m     55\u001b[0m         \"\"\"\n\u001b[1;32m     56\u001b[0m         \u001b[0mdata\u001b[0m \u001b[0;34m=\u001b[0m \u001b[0mself\u001b[0m\u001b[0;34m.\u001b[0m\u001b[0m_make_data\u001b[0m\u001b[0;34m(\u001b[0m\u001b[0;34m)\u001b[0m\u001b[0;34m\u001b[0m\u001b[0;34m\u001b[0m\u001b[0m\n\u001b[0;32m---> 57\u001b[0;31m         \u001b[0;32mif\u001b[0m \u001b[0mvalidate_json\u001b[0m\u001b[0;34m(\u001b[0m\u001b[0mdata\u001b[0m\u001b[0;34m,\u001b[0m \u001b[0mself\u001b[0m\u001b[0;34m.\u001b[0m\u001b[0mjson_schema\u001b[0m\u001b[0;34m)\u001b[0m\u001b[0;34m:\u001b[0m\u001b[0;34m\u001b[0m\u001b[0;34m\u001b[0m\u001b[0m\n\u001b[0m\u001b[1;32m     58\u001b[0m             \u001b[0;32mreturn\u001b[0m \u001b[0;32mTrue\u001b[0m\u001b[0;34m\u001b[0m\u001b[0;34m\u001b[0m\u001b[0m\n\u001b[1;32m     59\u001b[0m         \u001b[0;32melse\u001b[0m\u001b[0;34m:\u001b[0m\u001b[0;34m\u001b[0m\u001b[0;34m\u001b[0m\u001b[0m\n",
      "\u001b[0;32m~/Desktop/msds/sm2/product_analytics/2020-product-analytics-group-project-hexchat/code/flask_backend/utility_be.py\u001b[0m in \u001b[0;36mvalidate_json\u001b[0;34m(json_data, json_schema)\u001b[0m\n\u001b[1;32m     46\u001b[0m         \u001b[0;32mreturn\u001b[0m \u001b[0;32mTrue\u001b[0m\u001b[0;34m\u001b[0m\u001b[0;34m\u001b[0m\u001b[0m\n\u001b[1;32m     47\u001b[0m     \u001b[0;32mexcept\u001b[0m \u001b[0mjsonschema\u001b[0m\u001b[0;34m.\u001b[0m\u001b[0mexceptions\u001b[0m\u001b[0;34m.\u001b[0m\u001b[0mValidationError\u001b[0m \u001b[0;32mas\u001b[0m \u001b[0merr\u001b[0m\u001b[0;34m:\u001b[0m\u001b[0;34m\u001b[0m\u001b[0;34m\u001b[0m\u001b[0m\n\u001b[0;32m---> 48\u001b[0;31m         \u001b[0;32mraise\u001b[0m \u001b[0mValueError\u001b[0m\u001b[0;34m(\u001b[0m\u001b[0merr\u001b[0m\u001b[0;34m)\u001b[0m\u001b[0;34m\u001b[0m\u001b[0;34m\u001b[0m\u001b[0m\n\u001b[0m",
      "\u001b[0;31mValueError\u001b[0m: '1' is not of type 'integer'\n\nFailed validating 'type' in schema['properties']['test_str']['properties']['welcome_str']['properties']['type']:\n    {'type': 'integer'}\n\nOn instance['test_str']['welcome_str']['type']:\n    '1'"
     ]
    }
   ],
   "source": [
    "# Expect to fail, fail is good thing\n",
    "\n",
    "form_group_instance = FormGroupHelper(\n",
    "    name=\"test_group\", \n",
    "    user_ids=[1, 2, 3, 4, 5, 6], \n",
    "    welcome_str={\"type\": \"1\", \"content\": \"welcome~\"}, # <-Error is here, type is expected to be integer\n",
    "    ending_str=[1, 2, 3], \n",
    ")\n",
    "\n",
    "form_group_instance.validate_data_for_API()"
   ]
  },
  {
   "cell_type": "code",
   "execution_count": null,
   "metadata": {},
   "outputs": [],
   "source": []
  }
 ],
 "metadata": {
  "kernelspec": {
   "display_name": "Python 3",
   "language": "python",
   "name": "python3"
  },
  "language_info": {
   "codemirror_mode": {
    "name": "ipython",
    "version": 3
   },
   "file_extension": ".py",
   "mimetype": "text/x-python",
   "name": "python",
   "nbconvert_exporter": "python",
   "pygments_lexer": "ipython3",
   "version": "3.7.6"
  }
 },
 "nbformat": 4,
 "nbformat_minor": 4
}
